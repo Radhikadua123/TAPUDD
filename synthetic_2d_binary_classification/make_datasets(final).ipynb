{
 "cells": [
  {
   "cell_type": "code",
   "execution_count": 3,
   "metadata": {},
   "outputs": [
    {
     "name": "stderr",
     "output_type": "stream",
     "text": [
      "\n",
      "Bad key savefig.frameon in file /home/radhika/anaconda3/envs/conda_env_rd/lib/python3.7/site-packages/matplotlib/mpl-data/stylelib/_classic_test.mplstyle, line 421 ('savefig.frameon : True')\n",
      "You probably need to get an updated matplotlibrc file from\n",
      "https://github.com/matplotlib/matplotlib/blob/v3.3.3/matplotlibrc.template\n",
      "or from the matplotlib source distribution\n",
      "\n",
      "Bad key verbose.level in file /home/radhika/anaconda3/envs/conda_env_rd/lib/python3.7/site-packages/matplotlib/mpl-data/stylelib/_classic_test.mplstyle, line 472 ('verbose.level  : silent      # one of silent, helpful, debug, debug-annoying')\n",
      "You probably need to get an updated matplotlibrc file from\n",
      "https://github.com/matplotlib/matplotlib/blob/v3.3.3/matplotlibrc.template\n",
      "or from the matplotlib source distribution\n",
      "\n",
      "Bad key verbose.fileo in file /home/radhika/anaconda3/envs/conda_env_rd/lib/python3.7/site-packages/matplotlib/mpl-data/stylelib/_classic_test.mplstyle, line 473 ('verbose.fileo  : sys.stdout  # a log filename, sys.stdout or sys.stderr')\n",
      "You probably need to get an updated matplotlibrc file from\n",
      "https://github.com/matplotlib/matplotlib/blob/v3.3.3/matplotlibrc.template\n",
      "or from the matplotlib source distribution\n",
      "In /home/radhika/anaconda3/envs/conda_env_rd/lib/python3.7/site-packages/matplotlib/mpl-data/stylelib/_classic_test.mplstyle: \n",
      "The text.latex.preview rcparam was deprecated in Matplotlib 3.3 and will be removed two minor releases later.\n",
      "In /home/radhika/anaconda3/envs/conda_env_rd/lib/python3.7/site-packages/matplotlib/mpl-data/stylelib/_classic_test.mplstyle: \n",
      "The mathtext.fallback_to_cm rcparam was deprecated in Matplotlib 3.3 and will be removed two minor releases later.\n",
      "In /home/radhika/anaconda3/envs/conda_env_rd/lib/python3.7/site-packages/matplotlib/mpl-data/stylelib/_classic_test.mplstyle: Support for setting the 'mathtext.fallback_to_cm' rcParam is deprecated since 3.3 and will be removed two minor releases later; use 'mathtext.fallback : 'cm' instead.\n",
      "In /home/radhika/anaconda3/envs/conda_env_rd/lib/python3.7/site-packages/matplotlib/mpl-data/stylelib/_classic_test.mplstyle: \n",
      "The validate_bool_maybe_none function was deprecated in Matplotlib 3.3 and will be removed two minor releases later.\n",
      "In /home/radhika/anaconda3/envs/conda_env_rd/lib/python3.7/site-packages/matplotlib/mpl-data/stylelib/_classic_test.mplstyle: \n",
      "The savefig.jpeg_quality rcparam was deprecated in Matplotlib 3.3 and will be removed two minor releases later.\n",
      "In /home/radhika/anaconda3/envs/conda_env_rd/lib/python3.7/site-packages/matplotlib/mpl-data/stylelib/_classic_test.mplstyle: \n",
      "The keymap.all_axes rcparam was deprecated in Matplotlib 3.3 and will be removed two minor releases later.\n",
      "In /home/radhika/anaconda3/envs/conda_env_rd/lib/python3.7/site-packages/matplotlib/mpl-data/stylelib/_classic_test.mplstyle: \n",
      "The animation.avconv_path rcparam was deprecated in Matplotlib 3.3 and will be removed two minor releases later.\n",
      "In /home/radhika/anaconda3/envs/conda_env_rd/lib/python3.7/site-packages/matplotlib/mpl-data/stylelib/_classic_test.mplstyle: \n",
      "The animation.avconv_args rcparam was deprecated in Matplotlib 3.3 and will be removed two minor releases later.\n"
     ]
    }
   ],
   "source": [
    "import os\n",
    "import numpy as np\n",
    "import pickle\n",
    "import matplotlib.pyplot as plt"
   ]
  },
  {
   "cell_type": "markdown",
   "metadata": {},
   "source": [
    "### Plane"
   ]
  },
  {
   "cell_type": "code",
   "execution_count": 70,
   "metadata": {},
   "outputs": [
    {
     "name": "stdout",
     "output_type": "stream",
     "text": [
      "(1440000, 2)\n"
     ]
    }
   ],
   "source": [
    "width = 60\n",
    "height = 60\n",
    "plane_samples = []\n",
    "for i in np.arange(0,width, 0.05):\n",
    "    for j in np.arange(0,height, 0.05):\n",
    "        sample = [i-width/2, j-height/2]\n",
    "        plane_samples.append(sample)\n",
    "plane_samples = np.array(plane_samples)\n",
    "print(plane_samples.shape)\n",
    "\n",
    "save_path = os.path.join(\"./data\", \"plane.pkl\")\n",
    "with open(save_path, 'wb') as f:\n",
    "    pickle.dump(plane_samples, f)"
   ]
  },
  {
   "cell_type": "code",
   "execution_count": 71,
   "metadata": {},
   "outputs": [
    {
     "data": {
      "text/plain": [
       "(-30.0, 29.950000000000003)"
      ]
     },
     "execution_count": 71,
     "metadata": {},
     "output_type": "execute_result"
    }
   ],
   "source": [
    "plane_samples[:,1].min(),plane_samples[:,1].max()"
   ]
  },
  {
   "cell_type": "code",
   "execution_count": 72,
   "metadata": {},
   "outputs": [
    {
     "data": {
      "text/plain": [
       "(-30.0, 29.950000000000003)"
      ]
     },
     "execution_count": 72,
     "metadata": {},
     "output_type": "execute_result"
    }
   ],
   "source": [
    "plane_samples[:,0].min(),plane_samples[:,0].max()"
   ]
  },
  {
   "cell_type": "code",
   "execution_count": 73,
   "metadata": {},
   "outputs": [],
   "source": [
    "def concat(data):\n",
    "    len_data = data.shape[0]\n",
    "    means = []\n",
    "    covs = []\n",
    "    means.append([0])\n",
    "    covs.append([[0.1]])\n",
    "    sample = np.random.multivariate_normal(means[0], covs[0], len_data*8)\n",
    "    sample = sample.reshape(len_data, -1)\n",
    "    return np.concatenate([data, sample], -1)\n",
    "\n",
    "\n",
    "plane_samples = concat(plane_samples)\n",
    "\n",
    "\n",
    "save_path = os.path.join(\"./data\", \"plane_10dim.pkl\")\n",
    "with open(save_path, 'wb') as f:\n",
    "    pickle.dump(plane_samples, f)"
   ]
  },
  {
   "cell_type": "code",
   "execution_count": null,
   "metadata": {},
   "outputs": [],
   "source": []
  },
  {
   "cell_type": "code",
   "execution_count": 114,
   "metadata": {},
   "outputs": [],
   "source": [
    "dir_path = os.path.join('./data')\n",
    "os.makedirs(dir_path, exist_ok=True)\n",
    "save_path = os.path.join(dir_path, \"iddata_2d.pkl\")\n",
    "with open(save_path, 'wb') as f:\n",
    "    pickle.dump(data_dict, f)"
   ]
  },
  {
   "cell_type": "code",
   "execution_count": null,
   "metadata": {},
   "outputs": [],
   "source": []
  },
  {
   "cell_type": "code",
   "execution_count": 115,
   "metadata": {},
   "outputs": [],
   "source": [
    "\n",
    "def concat(data):\n",
    "    len_data = data.shape[0]\n",
    "    means = []\n",
    "    covs = []\n",
    "    means.append([0])\n",
    "    covs.append([[0.1]])\n",
    "    sample = np.random.multivariate_normal(means[0], covs[0], len_data*8)\n",
    "    sample = sample.reshape(len_data, -1)\n",
    "    return np.concatenate([data, sample], -1)\n",
    "\n",
    "\n",
    "data_dict['X']['train'] = concat(data_dict['X']['train'])\n",
    "data_dict['X']['val'] = concat(data_dict['X']['val'])\n",
    "data_dict['X']['test'] = concat(data_dict['X']['test'])\n",
    "\n",
    "\n",
    "dir_path = os.path.join('./data')\n",
    "os.makedirs(dir_path, exist_ok=True)\n",
    "save_path = os.path.join(dir_path, \"iddata_2d_dim10.pkl\")\n",
    "with open(save_path, 'wb') as f:\n",
    "    pickle.dump(data_dict, f)"
   ]
  },
  {
   "cell_type": "markdown",
   "metadata": {},
   "source": [
    "## 2D Synthetic data for binary class classification"
   ]
  },
  {
   "cell_type": "code",
   "execution_count": 91,
   "metadata": {},
   "outputs": [
    {
     "name": "stdout",
     "output_type": "stream",
     "text": [
      "[[5.0, 8.0], [14.0, 8.0]] [[[1.0, -0.8], [-0.8, 1.0]], [[1.0, 0.8], [0.8, 1.0]]]\n"
     ]
    },
    {
     "data": {
      "image/png": "[encoded data removed]",
      "text/plain": [
       "<Figure size 432x288 with 1 Axes>"
      ]
     },
     "metadata": {
      "needs_background": "light"
     },
     "output_type": "display_data"
    }
   ],
   "source": [
    "cls_num = 2\n",
    "means = []\n",
    "covs = []\n",
    "\n",
    "means.append([5., 8.])\n",
    "covs.append([[1.0, -0.8], [-0.8, 1.0]])\n",
    "\n",
    "means.append([14., 8.])\n",
    "covs.append([[1.0, 0.8], [0.8, 1.0]])\n",
    "\n",
    "\n",
    "print(means, covs)\n",
    "samples_train = []\n",
    "samples_val = []\n",
    "samples_test = []\n",
    "labels_train = []\n",
    "labels_val = []\n",
    "labels_test = []\n",
    "for i in range(cls_num):\n",
    "    sample = np.random.multivariate_normal(means[i], covs[i], 3000+500+500)\n",
    "    samples_train.append(sample[:3000])\n",
    "    samples_val.append(sample[3000:3500])\n",
    "    samples_test.append(sample[3500:4000])\n",
    "    \n",
    "    labels_train.append(np.zeros(sample[:3000].shape[0])+i)\n",
    "    labels_val.append(np.zeros(sample[3000:3500].shape[0])+i)\n",
    "    labels_test.append(np.zeros(sample[3500:].shape[0])+i)\n",
    "    \n",
    "data_dict = dict()\n",
    "data_dict['X'] = dict()\n",
    "data_dict['y'] = dict()\n",
    "\n",
    "data_dict['X']['train'] = np.concatenate(samples_train, axis = 0)\n",
    "data_dict['y']['train'] = np.concatenate(labels_train, axis = 0)\n",
    "\n",
    "data_dict['X']['val'] = np.concatenate(samples_val, axis = 0)\n",
    "data_dict['y']['val'] = np.concatenate(labels_val, axis = 0)\n",
    "\n",
    "data_dict['X']['test'] = np.concatenate(samples_test, axis = 0)\n",
    "data_dict['y']['test'] = np.concatenate(labels_test, axis = 0)\n",
    "\n",
    "plt.scatter(data_dict['X']['train'][:, 0], data_dict['X']['train'][:, 1], c=data_dict['y']['train'], s=20)\n",
    "plt.xlabel(\"$X_1$\")\n",
    "plt.ylabel(\"$X_2$\")\n",
    "plt.xlim(0, 20)\n",
    "plt.ylim(0, 20)\n",
    "plt.gca().set_aspect('equal')\n",
    "plt.show()"
   ]
  },
  {
   "cell_type": "code",
   "execution_count": 92,
   "metadata": {},
   "outputs": [],
   "source": [
    "dir_path = os.path.join('./data')\n",
    "os.makedirs(dir_path, exist_ok=True)\n",
    "save_path = os.path.join(dir_path, \"iddata_2d_ellipse_binary.pkl\")\n",
    "with open(save_path, 'wb') as f:\n",
    "    pickle.dump(data_dict, f)"
   ]
  },
  {
   "cell_type": "code",
   "execution_count": 93,
   "metadata": {},
   "outputs": [],
   "source": [
    "def concat(data):\n",
    "    len_data = data.shape[0]\n",
    "    means = []\n",
    "    covs = []\n",
    "    means.append([0])\n",
    "    covs.append([[0.1]])\n",
    "    sample = np.random.multivariate_normal(means[0], covs[0], len_data*8)\n",
    "    sample = sample.reshape(len_data, -1)\n",
    "    return np.concatenate([data, sample], -1)"
   ]
  },
  {
   "cell_type": "code",
   "execution_count": 94,
   "metadata": {},
   "outputs": [],
   "source": [
    "data_dict['X']['train'] = concat(data_dict['X']['train'])\n",
    "data_dict['X']['val'] = concat(data_dict['X']['val'])\n",
    "data_dict['X']['test'] = concat(data_dict['X']['test'])\n",
    "\n",
    "dir_path = os.path.join('./data')\n",
    "os.makedirs(dir_path, exist_ok=True)\n",
    "save_path = os.path.join(dir_path, \"iddata_2d_ellipse_binary_dim10.pkl\")\n",
    "with open(save_path, 'wb') as f:\n",
    "    pickle.dump(data_dict, f)"
   ]
  },
  {
   "cell_type": "code",
   "execution_count": null,
   "metadata": {},
   "outputs": [],
   "source": []
  }
 ],
 "metadata": {
  "kernelspec": {
   "display_name": "Python 3",
   "language": "python",
   "name": "python3"
  },
  "language_info": {
   "codemirror_mode": {
    "name": "ipython",
    "version": 3
   },
   "file_extension": ".py",
   "mimetype": "text/x-python",
   "name": "python",
   "nbconvert_exporter": "python",
   "pygments_lexer": "ipython3",
   "version": "3.7.9"
  }
 },
 "nbformat": 4,
 "nbformat_minor": 4
}
